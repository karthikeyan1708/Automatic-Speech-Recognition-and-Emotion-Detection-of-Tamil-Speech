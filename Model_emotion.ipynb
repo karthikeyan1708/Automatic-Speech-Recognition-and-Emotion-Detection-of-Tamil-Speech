{
  "cells": [
    {
      "cell_type": "code",
      "execution_count": null,
      "id": "52c1f576",
      "metadata": {
        "execution": {
          "iopub.execute_input": "2022-09-22T13:18:21.698765Z",
          "iopub.status.busy": "2022-09-22T13:18:21.698457Z",
          "iopub.status.idle": "2022-09-22T13:18:26.688003Z",
          "shell.execute_reply": "2022-09-22T13:18:26.687067Z"
        },
        "papermill": {
          "duration": 5.000566,
          "end_time": "2022-09-22T13:18:26.690358",
          "exception": false,
          "start_time": "2022-09-22T13:18:21.689792",
          "status": "completed"
        },
        "tags": [],
        "id": "52c1f576"
      },
      "outputs": [],
      "source": [
        "import tensorflow as tf\n",
        "from tensorflow import keras\n",
        "import matplotlib\n",
        "import matplotlib.pyplot as plt\n",
        "import seaborn as sns"
      ]
    },
    {
      "cell_type": "code",
      "execution_count": null,
      "id": "297e6cf5",
      "metadata": {
        "execution": {
          "iopub.execute_input": "2022-09-22T13:18:26.702244Z",
          "iopub.status.busy": "2022-09-22T13:18:26.701745Z",
          "iopub.status.idle": "2022-09-22T13:18:26.778092Z",
          "shell.execute_reply": "2022-09-22T13:18:26.777187Z"
        },
        "papermill": {
          "duration": 0.084877,
          "end_time": "2022-09-22T13:18:26.780359",
          "exception": false,
          "start_time": "2022-09-22T13:18:26.695482",
          "status": "completed"
        },
        "tags": [],
        "id": "297e6cf5"
      },
      "outputs": [],
      "source": [
        "import pandas as pd\n",
        "train = pd.read_csv('/content/train (1).csv')\n",
        "validation = pd.read_csv('/content/validation_data.csv')\n",
        "test = pd.read_csv('/content/test-data.csv')"
      ]
    },
    {
      "cell_type": "code",
      "execution_count": null,
      "id": "cb7af5c6",
      "metadata": {
        "execution": {
          "iopub.execute_input": "2022-09-22T13:18:26.791772Z",
          "iopub.status.busy": "2022-09-22T13:18:26.791487Z",
          "iopub.status.idle": "2022-09-22T13:18:26.806108Z",
          "shell.execute_reply": "2022-09-22T13:18:26.804941Z"
        },
        "papermill": {
          "duration": 0.023141,
          "end_time": "2022-09-22T13:18:26.808791",
          "exception": false,
          "start_time": "2022-09-22T13:18:26.785650",
          "status": "completed"
        },
        "tags": [],
        "colab": {
          "base_uri": "https://localhost:8080/"
        },
        "id": "cb7af5c6",
        "outputId": "d58d9f51-fb5c-41b0-c496-3a840b5b187c"
      },
      "outputs": [
        {
          "output_type": "stream",
          "name": "stdout",
          "text": [
            "                                          text_tamil  label\n",
            "0  இந்த வார இறுதியில் நான் மிகவும் ஏக்கமாக உணர்கி...      0\n",
            "1  நான் உண்மையிலேயே நம்பிக்கையுடன் இருக்க ஆரம்பித...      1\n",
            "2  என்னால் முடிந்ததைச் சிறப்பாகச் செய்ய வேண்டும்,...      0\n",
            "3  நான் எங்களை கார் பாகங்கள் இடத்திற்கு அழைத்துச்...      1\n",
            "4  பயனுள்ளதாக உணர்ந்ததற்கு நான் நன்றியுள்ளவனாக இர...      1\n",
            "                                          text_tamil  label\n",
            "0  நான் என்னைப் பற்றி மிகவும் வருத்தமாகவும் வருத்...      0\n",
            "1  நான் இன்னும் ஒரு வெற்று கேன்வாஸ் வெற்று காகித ...      0\n",
            "2            நான் உண்மையுள்ள வேலைக்காரனாக உணர்கிறேன்      2\n",
            "3         நான் வெறித்தனமாகவும் நீலமாகவும் உணர்கிறேன்      3\n",
            "4  நான் விருந்து சாப்பிடலாம் அல்லது நான் பண்டிகைய...      1\n",
            "                                          text_tamil  label\n",
            "0  நான் மிகவும் அழுகியதாக உணர்கிறேன், அதனால் நான்...      0\n",
            "1  நான் என் வலைப்பதிவைப் புதுப்பிக்கிறேன், ஏனென்ற...      0\n",
            "2  நான் வந்ததை விட சற்று அதிக நம்பிக்கையுடன் என் ...      1\n",
            "3     நான் இதை செய்யும்போது கொஞ்சம் வீணாக உணர்ந்தேன்      0\n",
            "4  வர்ஜீனியா பல்கலைக்கழகத்தில் முதுநிலைப் பட்டயப்...      1\n"
          ]
        }
      ],
      "source": [
        "print(train.head())\n",
        "print(validation.head())\n",
        "print(test.head())"
      ]
    },
    {
      "cell_type": "code",
      "execution_count": null,
      "id": "a54f9d00",
      "metadata": {
        "execution": {
          "iopub.execute_input": "2022-09-22T13:18:26.820056Z",
          "iopub.status.busy": "2022-09-22T13:18:26.819792Z",
          "iopub.status.idle": "2022-09-22T13:18:26.839446Z",
          "shell.execute_reply": "2022-09-22T13:18:26.838490Z"
        },
        "papermill": {
          "duration": 0.027722,
          "end_time": "2022-09-22T13:18:26.841474",
          "exception": false,
          "start_time": "2022-09-22T13:18:26.813752",
          "status": "completed"
        },
        "tags": [],
        "colab": {
          "base_uri": "https://localhost:8080/",
          "height": 206
        },
        "id": "a54f9d00",
        "outputId": "4ebaa16d-c081-4948-c7bb-aec9a6152bcd"
      },
      "outputs": [
        {
          "output_type": "execute_result",
          "data": {
            "text/plain": [
              "                                          text_tamil  label description\n",
              "0  இந்த வார இறுதியில் நான் மிகவும் ஏக்கமாக உணர்கி...      0     sadness\n",
              "1  நான் உண்மையிலேயே நம்பிக்கையுடன் இருக்க ஆரம்பித...      1         joy\n",
              "2  என்னால் முடிந்ததைச் சிறப்பாகச் செய்ய வேண்டும்,...      0     sadness\n",
              "3  நான் எங்களை கார் பாகங்கள் இடத்திற்கு அழைத்துச்...      1         joy\n",
              "4  பயனுள்ளதாக உணர்ந்ததற்கு நான் நன்றியுள்ளவனாக இர...      1         joy"
            ],
            "text/html": [
              "\n",
              "  <div id=\"df-b96c994f-e6f9-4921-a2a6-5839103b5ddd\">\n",
              "    <div class=\"colab-df-container\">\n",
              "      <div>\n",
              "<style scoped>\n",
              "    .dataframe tbody tr th:only-of-type {\n",
              "        vertical-align: middle;\n",
              "    }\n",
              "\n",
              "    .dataframe tbody tr th {\n",
              "        vertical-align: top;\n",
              "    }\n",
              "\n",
              "    .dataframe thead th {\n",
              "        text-align: right;\n",
              "    }\n",
              "</style>\n",
              "<table border=\"1\" class=\"dataframe\">\n",
              "  <thead>\n",
              "    <tr style=\"text-align: right;\">\n",
              "      <th></th>\n",
              "      <th>text_tamil</th>\n",
              "      <th>label</th>\n",
              "      <th>description</th>\n",
              "    </tr>\n",
              "  </thead>\n",
              "  <tbody>\n",
              "    <tr>\n",
              "      <th>0</th>\n",
              "      <td>இந்த வார இறுதியில் நான் மிகவும் ஏக்கமாக உணர்கி...</td>\n",
              "      <td>0</td>\n",
              "      <td>sadness</td>\n",
              "    </tr>\n",
              "    <tr>\n",
              "      <th>1</th>\n",
              "      <td>நான் உண்மையிலேயே நம்பிக்கையுடன் இருக்க ஆரம்பித...</td>\n",
              "      <td>1</td>\n",
              "      <td>joy</td>\n",
              "    </tr>\n",
              "    <tr>\n",
              "      <th>2</th>\n",
              "      <td>என்னால் முடிந்ததைச் சிறப்பாகச் செய்ய வேண்டும்,...</td>\n",
              "      <td>0</td>\n",
              "      <td>sadness</td>\n",
              "    </tr>\n",
              "    <tr>\n",
              "      <th>3</th>\n",
              "      <td>நான் எங்களை கார் பாகங்கள் இடத்திற்கு அழைத்துச்...</td>\n",
              "      <td>1</td>\n",
              "      <td>joy</td>\n",
              "    </tr>\n",
              "    <tr>\n",
              "      <th>4</th>\n",
              "      <td>பயனுள்ளதாக உணர்ந்ததற்கு நான் நன்றியுள்ளவனாக இர...</td>\n",
              "      <td>1</td>\n",
              "      <td>joy</td>\n",
              "    </tr>\n",
              "  </tbody>\n",
              "</table>\n",
              "</div>\n",
              "      <button class=\"colab-df-convert\" onclick=\"convertToInteractive('df-b96c994f-e6f9-4921-a2a6-5839103b5ddd')\"\n",
              "              title=\"Convert this dataframe to an interactive table.\"\n",
              "              style=\"display:none;\">\n",
              "        \n",
              "  <svg xmlns=\"http://www.w3.org/2000/svg\" height=\"24px\"viewBox=\"0 0 24 24\"\n",
              "       width=\"24px\">\n",
              "    <path d=\"M0 0h24v24H0V0z\" fill=\"none\"/>\n",
              "    <path d=\"M18.56 5.44l.94 2.06.94-2.06 2.06-.94-2.06-.94-.94-2.06-.94 2.06-2.06.94zm-11 1L8.5 8.5l.94-2.06 2.06-.94-2.06-.94L8.5 2.5l-.94 2.06-2.06.94zm10 10l.94 2.06.94-2.06 2.06-.94-2.06-.94-.94-2.06-.94 2.06-2.06.94z\"/><path d=\"M17.41 7.96l-1.37-1.37c-.4-.4-.92-.59-1.43-.59-.52 0-1.04.2-1.43.59L10.3 9.45l-7.72 7.72c-.78.78-.78 2.05 0 2.83L4 21.41c.39.39.9.59 1.41.59.51 0 1.02-.2 1.41-.59l7.78-7.78 2.81-2.81c.8-.78.8-2.07 0-2.86zM5.41 20L4 18.59l7.72-7.72 1.47 1.35L5.41 20z\"/>\n",
              "  </svg>\n",
              "      </button>\n",
              "      \n",
              "  <style>\n",
              "    .colab-df-container {\n",
              "      display:flex;\n",
              "      flex-wrap:wrap;\n",
              "      gap: 12px;\n",
              "    }\n",
              "\n",
              "    .colab-df-convert {\n",
              "      background-color: #E8F0FE;\n",
              "      border: none;\n",
              "      border-radius: 50%;\n",
              "      cursor: pointer;\n",
              "      display: none;\n",
              "      fill: #1967D2;\n",
              "      height: 32px;\n",
              "      padding: 0 0 0 0;\n",
              "      width: 32px;\n",
              "    }\n",
              "\n",
              "    .colab-df-convert:hover {\n",
              "      background-color: #E2EBFA;\n",
              "      box-shadow: 0px 1px 2px rgba(60, 64, 67, 0.3), 0px 1px 3px 1px rgba(60, 64, 67, 0.15);\n",
              "      fill: #174EA6;\n",
              "    }\n",
              "\n",
              "    [theme=dark] .colab-df-convert {\n",
              "      background-color: #3B4455;\n",
              "      fill: #D2E3FC;\n",
              "    }\n",
              "\n",
              "    [theme=dark] .colab-df-convert:hover {\n",
              "      background-color: #434B5C;\n",
              "      box-shadow: 0px 1px 3px 1px rgba(0, 0, 0, 0.15);\n",
              "      filter: drop-shadow(0px 1px 2px rgba(0, 0, 0, 0.3));\n",
              "      fill: #FFFFFF;\n",
              "    }\n",
              "  </style>\n",
              "\n",
              "      <script>\n",
              "        const buttonEl =\n",
              "          document.querySelector('#df-b96c994f-e6f9-4921-a2a6-5839103b5ddd button.colab-df-convert');\n",
              "        buttonEl.style.display =\n",
              "          google.colab.kernel.accessAllowed ? 'block' : 'none';\n",
              "\n",
              "        async function convertToInteractive(key) {\n",
              "          const element = document.querySelector('#df-b96c994f-e6f9-4921-a2a6-5839103b5ddd');\n",
              "          const dataTable =\n",
              "            await google.colab.kernel.invokeFunction('convertToInteractive',\n",
              "                                                     [key], {});\n",
              "          if (!dataTable) return;\n",
              "\n",
              "          const docLinkHtml = 'Like what you see? Visit the ' +\n",
              "            '<a target=\"_blank\" href=https://colab.research.google.com/notebooks/data_table.ipynb>data table notebook</a>'\n",
              "            + ' to learn more about interactive tables.';\n",
              "          element.innerHTML = '';\n",
              "          dataTable['output_type'] = 'display_data';\n",
              "          await google.colab.output.renderOutput(dataTable, element);\n",
              "          const docLink = document.createElement('div');\n",
              "          docLink.innerHTML = docLinkHtml;\n",
              "          element.appendChild(docLink);\n",
              "        }\n",
              "      </script>\n",
              "    </div>\n",
              "  </div>\n",
              "  "
            ]
          },
          "metadata": {},
          "execution_count": 5
        }
      ],
      "source": [
        "labels_dict = {0:'sadness', 1:'joy', 2:'love', 3:'anger', 4:'fear', 5:'surprise'}\n",
        "train['description'] = train['label'].map(labels_dict )\n",
        "train.head()"
      ]
    },
    {
      "cell_type": "code",
      "execution_count": null,
      "id": "f633904c",
      "metadata": {
        "execution": {
          "iopub.execute_input": "2022-09-22T13:18:26.852396Z",
          "iopub.status.busy": "2022-09-22T13:18:26.852141Z",
          "iopub.status.idle": "2022-09-22T13:18:26.862352Z",
          "shell.execute_reply": "2022-09-22T13:18:26.861130Z"
        },
        "papermill": {
          "duration": 0.018213,
          "end_time": "2022-09-22T13:18:26.864589",
          "exception": false,
          "start_time": "2022-09-22T13:18:26.846376",
          "status": "completed"
        },
        "tags": [],
        "colab": {
          "base_uri": "https://localhost:8080/"
        },
        "id": "f633904c",
        "outputId": "4948276e-fe01-4d09-dbed-a6aa691f7118"
      },
      "outputs": [
        {
          "output_type": "execute_result",
          "data": {
            "text/plain": [
              "joy         0.335562\n",
              "sadness     0.293938\n",
              "anger       0.132875\n",
              "fear        0.122063\n",
              "love        0.080437\n",
              "surprise    0.035125\n",
              "Name: description, dtype: float64"
            ]
          },
          "metadata": {},
          "execution_count": 6
        }
      ],
      "source": [
        "train['description'].value_counts(normalize=True)"
      ]
    },
    {
      "cell_type": "code",
      "execution_count": null,
      "id": "8a148ced",
      "metadata": {
        "execution": {
          "iopub.execute_input": "2022-09-22T13:18:26.875716Z",
          "iopub.status.busy": "2022-09-22T13:18:26.875454Z",
          "iopub.status.idle": "2022-09-22T13:18:27.098974Z",
          "shell.execute_reply": "2022-09-22T13:18:27.098063Z"
        },
        "papermill": {
          "duration": 0.23147,
          "end_time": "2022-09-22T13:18:27.101133",
          "exception": false,
          "start_time": "2022-09-22T13:18:26.869663",
          "status": "completed"
        },
        "tags": [],
        "colab": {
          "base_uri": "https://localhost:8080/",
          "height": 472
        },
        "id": "8a148ced",
        "outputId": "3049c04c-2b47-4028-a6eb-2fb17917abad"
      },
      "outputs": [
        {
          "output_type": "display_data",
          "data": {
            "text/plain": [
              "<Figure size 640x480 with 1 Axes>"
            ],
            "image/png": "[encoded data removed]"
          },
          "metadata": {}
        }
      ],
      "source": [
        "train['description'].value_counts().plot(kind='bar');\n"
      ]
    },
    {
      "cell_type": "code",
      "execution_count": null,
      "id": "95311b96",
      "metadata": {
        "execution": {
          "iopub.execute_input": "2022-09-22T13:18:27.959533Z",
          "iopub.status.busy": "2022-09-22T13:18:27.959237Z",
          "iopub.status.idle": "2022-09-22T13:18:27.964838Z",
          "shell.execute_reply": "2022-09-22T13:18:27.963816Z"
        },
        "papermill": {
          "duration": 0.013812,
          "end_time": "2022-09-22T13:18:27.966834",
          "exception": false,
          "start_time": "2022-09-22T13:18:27.953022",
          "status": "completed"
        },
        "tags": [],
        "id": "95311b96"
      },
      "outputs": [],
      "source": [
        "def text_cleaning(text):\n",
        "    punctuation_removed = [char for char in text if char not in string.punctuation]\n",
        "    p_join = ''.join(punctuation_removed)\n",
        "    return p_join\n"
      ]
    },
    {
      "cell_type": "code",
      "execution_count": null,
      "id": "0b86c66a",
      "metadata": {
        "execution": {
          "iopub.execute_input": "2022-09-22T13:18:27.978789Z",
          "iopub.status.busy": "2022-09-22T13:18:27.978015Z",
          "iopub.status.idle": "2022-09-22T13:18:28.754274Z",
          "shell.execute_reply": "2022-09-22T13:18:28.753288Z"
        },
        "papermill": {
          "duration": 0.784722,
          "end_time": "2022-09-22T13:18:28.756719",
          "exception": false,
          "start_time": "2022-09-22T13:18:27.971997",
          "status": "completed"
        },
        "tags": [],
        "id": "0b86c66a"
      },
      "outputs": [],
      "source": [
        "from tensorflow.keras.preprocessing.text import Tokenizer\n",
        "from tensorflow.keras.preprocessing.sequence import pad_sequences\n"
      ]
    },
    {
      "cell_type": "code",
      "execution_count": null,
      "id": "d8092341",
      "metadata": {
        "execution": {
          "iopub.execute_input": "2022-09-22T13:18:28.768743Z",
          "iopub.status.busy": "2022-09-22T13:18:28.768419Z",
          "iopub.status.idle": "2022-09-22T13:19:07.696084Z",
          "shell.execute_reply": "2022-09-22T13:19:07.695119Z"
        },
        "papermill": {
          "duration": 38.941982,
          "end_time": "2022-09-22T13:19:07.704199",
          "exception": false,
          "start_time": "2022-09-22T13:18:28.762217",
          "status": "completed"
        },
        "tags": [],
        "colab": {
          "base_uri": "https://localhost:8080/"
        },
        "id": "d8092341",
        "outputId": "e477651a-06ac-4813-a01e-c625a513f046"
      },
      "outputs": [
        {
          "output_type": "stream",
          "name": "stdout",
          "text": [
            "                                          text_tamil  label description  \\\n",
            "0  இந்த வார இறுதியில் நான் மிகவும் ஏக்கமாக உணர்கி...      0     sadness   \n",
            "1  நான் உண்மையிலேயே நம்பிக்கையுடன் இருக்க ஆரம்பித...      1         joy   \n",
            "2  என்னால் முடிந்ததைச் சிறப்பாகச் செய்ய வேண்டும்,...      0     sadness   \n",
            "3  நான் எங்களை கார் பாகங்கள் இடத்திற்கு அழைத்துச்...      1         joy   \n",
            "4  பயனுள்ளதாக உணர்ந்ததற்கு நான் நன்றியுள்ளவனாக இர...      1         joy   \n",
            "\n",
            "                                                list  \n",
            "0  இந்த வார இறுதியில் நான் மிகவும் ஏக்கமாக உணர்கி...  \n",
            "1  நான் உண்மையிலேயே நம்பிக்கையுடன் இருக்க ஆரம்பித...  \n",
            "2  என்னால் முடிந்ததைச் சிறப்பாகச் செய்ய வேண்டும் ...  \n",
            "3  நான் எங்களை கார் பாகங்கள் இடத்திற்கு அழைத்துச்...  \n",
            "4  பயனுள்ளதாக உணர்ந்ததற்கு நான் நன்றியுள்ளவனாக இர...  \n",
            "                                          text_tamil  label  \\\n",
            "0  நான் என்னைப் பற்றி மிகவும் வருத்தமாகவும் வருத்...      0   \n",
            "1  நான் இன்னும் ஒரு வெற்று கேன்வாஸ் வெற்று காகித ...      0   \n",
            "2            நான் உண்மையுள்ள வேலைக்காரனாக உணர்கிறேன்      2   \n",
            "3         நான் வெறித்தனமாகவும் நீலமாகவும் உணர்கிறேன்      3   \n",
            "4  நான் விருந்து சாப்பிடலாம் அல்லது நான் பண்டிகைய...      1   \n",
            "\n",
            "                                                list  \n",
            "0  நான் என்னைப் பற்றி மிகவும் வருத்தமாகவும் வருத்...  \n",
            "1  நான் இன்னும் ஒரு வெற்று கேன்வாஸ் வெற்று காகித ...  \n",
            "2            நான் உண்மையுள்ள வேலைக்காரனாக உணர்கிறேன்  \n",
            "3         நான் வெறித்தனமாகவும் நீலமாகவும் உணர்கிறேன்  \n",
            "4  நான் விருந்து சாப்பிடலாம் அல்லது நான் பண்டிகைய...  \n"
          ]
        }
      ],
      "source": [
        "\n",
        "\n",
        "import string\n",
        "ddtrain = train['text_tamil'].apply(text_cleaning)\n",
        "ddvalid = validation['text_tamil'].apply(text_cleaning)\n",
        "train['list'] = ddtrain\n",
        "validation['list'] = ddvalid\n",
        "\n",
        "print(train.head())\n",
        "print(validation.head())"
      ]
    },
    {
      "cell_type": "code",
      "execution_count": null,
      "id": "1e4095e3",
      "metadata": {
        "execution": {
          "iopub.execute_input": "2022-09-22T13:19:07.723115Z",
          "iopub.status.busy": "2022-09-22T13:19:07.722077Z",
          "iopub.status.idle": "2022-09-22T13:19:07.730758Z",
          "shell.execute_reply": "2022-09-22T13:19:07.729397Z"
        },
        "papermill": {
          "duration": 0.018167,
          "end_time": "2022-09-22T13:19:07.733308",
          "exception": false,
          "start_time": "2022-09-22T13:19:07.715141",
          "status": "completed"
        },
        "tags": [],
        "colab": {
          "base_uri": "https://localhost:8080/"
        },
        "id": "1e4095e3",
        "outputId": "8fb390d4-be74-4c17-a9d6-62543a1bd9a7"
      },
      "outputs": [
        {
          "output_type": "stream",
          "name": "stdout",
          "text": [
            "நான் எங்களை கார் பாகங்கள் இடத்திற்கு அழைத்துச் சென்றேன் மீண்டும் ஓட்டுவது பாதுகாப்பானது போல் டெர்ரி உணர்கிறார்\n",
            "நான் வெறித்தனமாகவும் நீலமாகவும் உணர்கிறேன்\n",
            "நான் இதை செய்யும்போது கொஞ்சம் வீணாக உணர்ந்தேன்\n",
            "(16000,) (16000,)\n",
            "(1455,) (1455,)\n"
          ]
        }
      ],
      "source": [
        "X_train, y_train = train['list'].values, train['label'].values\n",
        "X_val, y_val = validation['list'].values, validation['label'].values\n",
        "X_test, y_test = test['text_tamil'].values, test['label'].values\n",
        "\n",
        "print(X_train[3])\n",
        "print(X_val[3])\n",
        "print(X_test[3])\n",
        "\n",
        "print(X_train.shape,y_train.shape)\n",
        "print(X_test.shape,y_test.shape)\n",
        "\n"
      ]
    },
    {
      "cell_type": "code",
      "execution_count": null,
      "id": "23c65ff5",
      "metadata": {
        "execution": {
          "iopub.execute_input": "2022-09-22T13:19:07.745671Z",
          "iopub.status.busy": "2022-09-22T13:19:07.745379Z",
          "iopub.status.idle": "2022-09-22T13:19:08.194668Z",
          "shell.execute_reply": "2022-09-22T13:19:08.193484Z"
        },
        "papermill": {
          "duration": 0.458928,
          "end_time": "2022-09-22T13:19:08.197962",
          "exception": false,
          "start_time": "2022-09-22T13:19:07.739034",
          "status": "completed"
        },
        "tags": [],
        "id": "23c65ff5"
      },
      "outputs": [],
      "source": [
        "max_features = 2000\n",
        "\n",
        "tokenizer = Tokenizer(num_words=max_features, oov_token=\"<OOV>\")\n",
        "tokenizer.fit_on_texts(X_train)\n",
        "X_train_pad = tokenizer.texts_to_sequences(X_train)\n",
        "X_train_pad = pad_sequences(X_train_pad, padding='post', truncating=\"post\", maxlen=100)\n",
        "\n",
        "vocab_size = len(tokenizer.word_index) + 1\n",
        "\n",
        "X_val_pad = tokenizer.texts_to_sequences(X_val)\n",
        "X_val_pad = pad_sequences(X_val_pad, padding='post', truncating=\"post\", maxlen=100)"
      ]
    },
    {
      "cell_type": "code",
      "execution_count": null,
      "id": "a7c31a58",
      "metadata": {
        "execution": {
          "iopub.execute_input": "2022-09-22T13:19:08.215621Z",
          "iopub.status.busy": "2022-09-22T13:19:08.215139Z",
          "iopub.status.idle": "2022-09-22T13:19:08.223061Z",
          "shell.execute_reply": "2022-09-22T13:19:08.222213Z"
        },
        "papermill": {
          "duration": 0.021957,
          "end_time": "2022-09-22T13:19:08.228365",
          "exception": false,
          "start_time": "2022-09-22T13:19:08.206408",
          "status": "completed"
        },
        "tags": [],
        "colab": {
          "base_uri": "https://localhost:8080/"
        },
        "id": "a7c31a58",
        "outputId": "f1958452-cc48-405f-9e50-de30389b6bfd"
      },
      "outputs": [
        {
          "output_type": "stream",
          "name": "stdout",
          "text": [
            "(16000, 100) [ 11 324 281   2   5 370   3   0   0   0   0   0   0   0   0   0   0   0\n",
            "   0   0   0   0   0   0   0   0   0   0   0   0   0   0   0   0   0   0\n",
            "   0   0   0   0   0   0   0   0   0   0   0   0   0   0   0   0   0   0\n",
            "   0   0   0   0   0   0   0   0   0   0   0   0   0   0   0   0   0   0\n",
            "   0   0   0   0   0   0   0   0   0   0   0   0   0   0   0   0   0   0\n",
            "   0   0   0   0   0   0   0   0   0   0]\n",
            "(2000, 100) [  2  68  12   5 585 585   3   9 419   1   1   0   0   0   0   0   0   0\n",
            "   0   0   0   0   0   0   0   0   0   0   0   0   0   0   0   0   0   0\n",
            "   0   0   0   0   0   0   0   0   0   0   0   0   0   0   0   0   0   0\n",
            "   0   0   0   0   0   0   0   0   0   0   0   0   0   0   0   0   0   0\n",
            "   0   0   0   0   0   0   0   0   0   0   0   0   0   0   0   0   0   0\n",
            "   0   0   0   0   0   0   0   0   0   0]\n"
          ]
        }
      ],
      "source": [
        "print(X_train_pad.shape, X_train_pad[0])\n",
        "print(X_val_pad.shape, X_val_pad[0])"
      ]
    },
    {
      "cell_type": "code",
      "execution_count": null,
      "id": "19970b10",
      "metadata": {
        "execution": {
          "iopub.execute_input": "2022-09-22T13:19:08.244975Z",
          "iopub.status.busy": "2022-09-22T13:19:08.244672Z",
          "iopub.status.idle": "2022-09-22T13:19:08.252880Z",
          "shell.execute_reply": "2022-09-22T13:19:08.252042Z"
        },
        "papermill": {
          "duration": 0.019286,
          "end_time": "2022-09-22T13:19:08.255401",
          "exception": false,
          "start_time": "2022-09-22T13:19:08.236115",
          "status": "completed"
        },
        "tags": [],
        "id": "19970b10"
      },
      "outputs": [],
      "source": [
        "from tensorflow.keras import Sequential\n",
        "from tensorflow.keras.models import Model\n",
        "from tensorflow.keras import layers, Input\n",
        "from tensorflow.keras.layers import  Flatten, GlobalMaxPooling1D, Dropout, SpatialDropout1D\n",
        "from tensorflow.keras.layers import Embedding, Dense, LSTM, GRU, Conv1D, Bidirectional,  MaxPooling1D"
      ]
    },
    {
      "cell_type": "code",
      "execution_count": null,
      "id": "0f34713c",
      "metadata": {
        "execution": {
          "iopub.execute_input": "2022-09-22T13:19:08.273189Z",
          "iopub.status.busy": "2022-09-22T13:19:08.272849Z",
          "iopub.status.idle": "2022-09-22T13:19:11.534753Z",
          "shell.execute_reply": "2022-09-22T13:19:11.533701Z"
        },
        "papermill": {
          "duration": 3.273643,
          "end_time": "2022-09-22T13:19:11.537401",
          "exception": false,
          "start_time": "2022-09-22T13:19:08.263758",
          "status": "completed"
        },
        "tags": [],
        "colab": {
          "base_uri": "https://localhost:8080/"
        },
        "id": "0f34713c",
        "outputId": "3fd8364e-f547-4a1f-99be-3060bd48a6d8"
      },
      "outputs": [
        {
          "output_type": "stream",
          "name": "stdout",
          "text": [
            "Model: \"sequential\"\n",
            "_________________________________________________________________\n",
            " Layer (type)                Output Shape              Param #   \n",
            "=================================================================\n",
            " embedding (Embedding)       (None, 100, 300)          600000    \n",
            "                                                                 \n",
            " bidirectional (Bidirectiona  (None, 312)              570336    \n",
            " l)                                                              \n",
            "                                                                 \n",
            " flatten (Flatten)           (None, 312)               0         \n",
            "                                                                 \n",
            " dense (Dense)               (None, 128)               40064     \n",
            "                                                                 \n",
            " dropout (Dropout)           (None, 128)               0         \n",
            "                                                                 \n",
            " dense_1 (Dense)             (None, 64)                8256      \n",
            "                                                                 \n",
            " dense_2 (Dense)             (None, 6)                 390       \n",
            "                                                                 \n",
            "=================================================================\n",
            "Total params: 1,219,046\n",
            "Trainable params: 1,219,046\n",
            "Non-trainable params: 0\n",
            "_________________________________________________________________\n",
            "None\n"
          ]
        }
      ],
      "source": [
        "embed_dim = 300\n",
        "\n",
        "model1 = Sequential([\n",
        "    Embedding(max_features, embed_dim, input_length=X_train_pad.shape[1]),\n",
        "    Bidirectional(LSTM(156, dropout=0.2)),\n",
        "    Flatten(),\n",
        "    Dense(128, activation = 'relu'),\n",
        "    Dropout(0.2),\n",
        "    Dense(64, activation = 'relu'),\n",
        "    Dense(6, activation = 'softmax')\n",
        "])\n",
        "print(model1.summary())\n",
        "\n",
        "model1.compile(loss = 'categorical_crossentropy', optimizer='adam', metrics = ['accuracy'])"
      ]
    },
    {
      "cell_type": "code",
      "execution_count": null,
      "id": "7195c150",
      "metadata": {
        "execution": {
          "iopub.execute_input": "2022-09-22T13:19:11.550833Z",
          "iopub.status.busy": "2022-09-22T13:19:11.549939Z",
          "iopub.status.idle": "2022-09-22T13:20:06.398081Z",
          "shell.execute_reply": "2022-09-22T13:20:06.396935Z"
        },
        "papermill": {
          "duration": 54.857304,
          "end_time": "2022-09-22T13:20:06.400545",
          "exception": false,
          "start_time": "2022-09-22T13:19:11.543241",
          "status": "completed"
        },
        "tags": [],
        "colab": {
          "base_uri": "https://localhost:8080/"
        },
        "id": "7195c150",
        "outputId": "c7677984-ae78-4bcf-e86f-04e1e261c798"
      },
      "outputs": [
        {
          "output_type": "stream",
          "name": "stdout",
          "text": [
            "Epoch 1/12\n",
            "250/250 [==============================] - 40s 101ms/step - loss: 1.4335 - accuracy: 0.4424 - val_loss: 1.2270 - val_accuracy: 0.5465\n",
            "Epoch 2/12\n",
            "250/250 [==============================] - 6s 26ms/step - loss: 1.0574 - accuracy: 0.6198 - val_loss: 1.0458 - val_accuracy: 0.6115\n",
            "Epoch 3/12\n",
            "250/250 [==============================] - 5s 21ms/step - loss: 0.8814 - accuracy: 0.6806 - val_loss: 1.0244 - val_accuracy: 0.6355\n",
            "Epoch 4/12\n",
            "250/250 [==============================] - 6s 24ms/step - loss: 0.7946 - accuracy: 0.7109 - val_loss: 1.0194 - val_accuracy: 0.6440\n",
            "Epoch 5/12\n",
            "250/250 [==============================] - 5s 22ms/step - loss: 0.7350 - accuracy: 0.7299 - val_loss: 1.0665 - val_accuracy: 0.6335\n",
            "Epoch 6/12\n",
            "250/250 [==============================] - 5s 21ms/step - loss: 0.6863 - accuracy: 0.7479 - val_loss: 1.1045 - val_accuracy: 0.6295\n",
            "Epoch 7/12\n",
            "250/250 [==============================] - 5s 20ms/step - loss: 0.6373 - accuracy: 0.7681 - val_loss: 1.2055 - val_accuracy: 0.6130\n",
            "Epoch 8/12\n",
            "250/250 [==============================] - 5s 19ms/step - loss: 0.5932 - accuracy: 0.7790 - val_loss: 1.2114 - val_accuracy: 0.6230\n",
            "Epoch 9/12\n",
            "250/250 [==============================] - 4s 18ms/step - loss: 0.5422 - accuracy: 0.7966 - val_loss: 1.3317 - val_accuracy: 0.6070\n",
            "Epoch 10/12\n",
            "250/250 [==============================] - 5s 18ms/step - loss: 0.4977 - accuracy: 0.8164 - val_loss: 1.3438 - val_accuracy: 0.5940\n",
            "Epoch 11/12\n",
            "250/250 [==============================] - 4s 18ms/step - loss: 0.4598 - accuracy: 0.8302 - val_loss: 1.4670 - val_accuracy: 0.5955\n",
            "Epoch 12/12\n",
            "250/250 [==============================] - 4s 18ms/step - loss: 0.4223 - accuracy: 0.8456 - val_loss: 1.5853 - val_accuracy: 0.5975\n"
          ]
        }
      ],
      "source": [
        "from tensorflow.keras.utils import to_categorical\n",
        "\n",
        "y_train = to_categorical(y_train)\n",
        "y_val = to_categorical(y_val)\n",
        "y_test = to_categorical(y_test)\n",
        "\n",
        "history1 = model1.fit(X_train_pad, y_train, validation_data=(X_val_pad,y_val), epochs=12, batch_size=64)"
      ]
    },
    {
      "cell_type": "code",
      "execution_count": null,
      "id": "585464ea",
      "metadata": {
        "execution": {
          "iopub.execute_input": "2022-09-22T13:20:06.972648Z",
          "iopub.status.busy": "2022-09-22T13:20:06.972326Z",
          "iopub.status.idle": "2022-09-22T13:20:07.438757Z",
          "shell.execute_reply": "2022-09-22T13:20:07.437383Z"
        },
        "papermill": {
          "duration": 0.517834,
          "end_time": "2022-09-22T13:20:07.441364",
          "exception": false,
          "start_time": "2022-09-22T13:20:06.923530",
          "status": "completed"
        },
        "tags": [],
        "colab": {
          "base_uri": "https://localhost:8080/"
        },
        "id": "585464ea",
        "outputId": "df7cacaf-a249-4e8b-ba17-686d901f6c81"
      },
      "outputs": [
        {
          "output_type": "stream",
          "name": "stdout",
          "text": [
            "Evaluate on test data\n",
            "46/46 [==============================] - 0s 6ms/step - loss: 0.8357 - accuracy: 0.7911\n",
            "Test loss:0.836 and Test accuracy:79%\n"
          ]
        }
      ],
      "source": [
        "X_test_pad = tokenizer.texts_to_sequences(X_test)\n",
        "X_test_pad = pad_sequences(X_test_pad, padding='post', truncating=\"post\", maxlen=100)\n",
        "\n",
        "#Evaluate the model on the test data using `evaluate`\n",
        "print(\"Evaluate on test data\")\n",
        "t_results = model1.evaluate(X_test_pad , y_test, batch_size=32)\n",
        "\n",
        "print(\"Test loss:{} and Test accuracy:{}%\".format(round(t_results[0], 3), round(t_results[1]*100)))"
      ]
    },
    {
      "cell_type": "code",
      "execution_count": null,
      "id": "9f879da9",
      "metadata": {
        "execution": {
          "iopub.execute_input": "2022-09-22T13:20:08.271773Z",
          "iopub.status.busy": "2022-09-22T13:20:08.271462Z",
          "iopub.status.idle": "2022-09-22T13:20:08.598334Z",
          "shell.execute_reply": "2022-09-22T13:20:08.595850Z"
        },
        "papermill": {
          "duration": 0.379686,
          "end_time": "2022-09-22T13:20:08.601372",
          "exception": false,
          "start_time": "2022-09-22T13:20:08.221686",
          "status": "completed"
        },
        "tags": [],
        "colab": {
          "base_uri": "https://localhost:8080/"
        },
        "id": "9f879da9",
        "outputId": "9718ae0d-109b-427b-8724-efb0213a3cdc"
      },
      "outputs": [
        {
          "output_type": "stream",
          "name": "stdout",
          "text": [
            "46/46 [==============================] - 0s 4ms/step\n",
            "              precision    recall  f1-score   support\n",
            "\n",
            "           0       0.85      0.82      0.84       480\n",
            "           1       0.86      0.84      0.85       551\n",
            "           2       0.58      0.62      0.60        84\n",
            "           3       0.70      0.77      0.74       168\n",
            "           4       0.70      0.72      0.71       141\n",
            "           5       0.37      0.45      0.41        31\n",
            "\n",
            "    accuracy                           0.79      1455\n",
            "   macro avg       0.68      0.70      0.69      1455\n",
            "weighted avg       0.80      0.79      0.79      1455\n",
            "\n"
          ]
        }
      ],
      "source": [
        "import numpy as np\n",
        "y_pred =   np.argmax(model1.predict(X_test_pad), axis=1)\n",
        "y_true = np.argmax(y_test, axis=1)\n",
        "from sklearn import metrics\n",
        "print(metrics.classification_report(y_pred, y_true))"
      ]
    },
    {
      "cell_type": "code",
      "source": [
        "def plot_graphs(history, metric):\n",
        "    plt.plot(history.history[metric])\n",
        "    plt.plot(history.history[f'val_{metric}'])\n",
        "    plt.xlabel(\"Epochs\")\n",
        "    plt.ylabel(metric)\n",
        "    plt.legend([metric, f'val_{metric}'])\n",
        "    plt.show()\n",
        "plot_graphs(history1, \"accuracy\")\n",
        "plot_graphs(history1, \"loss\")\n"
      ],
      "metadata": {
        "colab": {
          "base_uri": "https://localhost:8080/",
          "height": 881
        },
        "id": "f7KyVRRJaBzE",
        "outputId": "ccf01664-ea7e-410f-b5eb-5c7f2a99d4da"
      },
      "id": "f7KyVRRJaBzE",
      "execution_count": null,
      "outputs": [
        {
          "output_type": "display_data",
          "data": {
            "text/plain": [
              "<Figure size 640x480 with 1 Axes>"
            ],
            "image/png": "[encoded data removed]"
          },
          "metadata": {}
        },
        {
          "output_type": "display_data",
          "data": {
            "text/plain": [
              "<Figure size 640x480 with 1 Axes>"
            ],
            "image/png": "[encoded data removed]"
          },
          "metadata": {}
        }
      ]
    },
    {
      "cell_type": "code",
      "source": [],
      "metadata": {
        "id": "HaGcDJgUaeWm"
      },
      "id": "HaGcDJgUaeWm",
      "execution_count": null,
      "outputs": []
    }
  ],
  "metadata": {
    "kernelspec": {
      "display_name": "Python 3",
      "name": "python3"
    },
    "language_info": {
      "codemirror_mode": {
        "name": "ipython",
        "version": 3
      },
      "file_extension": ".py",
      "mimetype": "text/x-python",
      "name": "python",
      "nbconvert_exporter": "python",
      "pygments_lexer": "ipython3",
      "version": "3.7.12"
    },
    "papermill": {
      "default_parameters": {},
      "duration": 118.258856,
      "end_time": "2022-09-22T13:20:12.300969",
      "environment_variables": {},
      "exception": null,
      "input_path": "__notebook__.ipynb",
      "output_path": "__notebook__.ipynb",
      "parameters": {},
      "start_time": "2022-09-22T13:18:14.042113",
      "version": "2.3.4"
    },
    "colab": {
      "provenance": [],
      "gpuType": "T4"
    },
    "accelerator": "GPU"
  },
  "nbformat": 4,
  "nbformat_minor": 5
}